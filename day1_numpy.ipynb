{
 "cells": [
  {
   "cell_type": "markdown",
   "id": "4d45d615",
   "metadata": {},
   "source": [
    "# NUMPY\n"
   ]
  },
  {
   "cell_type": "code",
   "execution_count": 21,
   "id": "fce6c762",
   "metadata": {},
   "outputs": [],
   "source": [
    "import numpy as np"
   ]
  },
  {
   "cell_type": "code",
   "execution_count": 22,
   "id": "574cd751",
   "metadata": {},
   "outputs": [
    {
     "name": "stdout",
     "output_type": "stream",
     "text": [
      "[1 2 3 4 5 6]\n",
      "\n",
      "\n",
      "[[ 1  2  3  4]\n",
      " [ 5  6  7  8]\n",
      " [ 9 10 11 12]]\n",
      "\n",
      "\n",
      "[[[ 1  2  3]\n",
      "  [ 4  5  6]]\n",
      "\n",
      " [[ 7  8  9]\n",
      "  [10 11 12]]]\n"
     ]
    }
   ],
   "source": [
    "a1 = np.array([1,2,3,4,5,6])      # 1d array\n",
    "a2 = np.array([[1, 2, 3, 4], [5, 6, 7, 8], [9, 10, 11, 12]])   #2d array\n",
    "a3 = np.array([[[1, 2, 3], [4, 5, 6]], [[7, 8, 9], [10, 11, 12]]])  #3d array\n",
    "print(a1)\n",
    "print(\"\\n\")\n",
    "print(a2)\n",
    "print(\"\\n\")\n",
    "print(a3)"
   ]
  },
  {
   "cell_type": "markdown",
   "id": "ecc775ca",
   "metadata": {},
   "source": [
    "## Different ways of initializing array\n"
   ]
  },
  {
   "cell_type": "code",
   "execution_count": 31,
   "id": "f92745af",
   "metadata": {},
   "outputs": [
    {
     "name": "stdout",
     "output_type": "stream",
     "text": [
      "[[1. 1. 1.]\n",
      " [1. 1. 1.]\n",
      " [1. 1. 1.]]\n",
      "[[0. 0. 0.]\n",
      " [0. 0. 0.]\n",
      " [0. 0. 0.]]\n"
     ]
    }
   ],
   "source": [
    "print(np.ones((3,3)))  #initializing with 1 \n",
    "print(np.zeros((3,3))) #initializing wiht 0"
   ]
  },
  {
   "cell_type": "code",
   "execution_count": 33,
   "id": "5eef085e",
   "metadata": {},
   "outputs": [
    {
     "data": {
      "text/plain": [
       "array([[0.49781901, 0.82644777, 0.4477696 ],\n",
       "       [0.08167238, 0.42382653, 0.49413025],\n",
       "       [0.49363472, 0.40135968, 0.53014061]])"
      ]
     },
     "execution_count": 33,
     "metadata": {},
     "output_type": "execute_result"
    }
   ],
   "source": [
    "np.random.random((3,3)) #generate a random number between 0 and 1 of given dimension"
   ]
  },
  {
   "cell_type": "code",
   "execution_count": 35,
   "id": "e529fbad",
   "metadata": {},
   "outputs": [
    {
     "data": {
      "text/plain": [
       "array([-10. ,  -7.5,  -5. ,  -2.5,   0. ,   2.5,   5. ,   7.5,  10. ])"
      ]
     },
     "execution_count": 35,
     "metadata": {},
     "output_type": "execute_result"
    }
   ],
   "source": [
    "np.linspace(-10,10,9)   # generate 9 number between -10 and 10 and each number is in equal distance form other "
   ]
  },
  {
   "cell_type": "markdown",
   "id": "61cd07b0",
   "metadata": {},
   "source": [
    "## Array attributes"
   ]
  },
  {
   "cell_type": "code",
   "execution_count": 44,
   "id": "5fd4f7a8",
   "metadata": {},
   "outputs": [
    {
     "name": "stdout",
     "output_type": "stream",
     "text": [
      "2\n",
      "(2, 2, 3)\n",
      "12\n",
      "8\n"
     ]
    }
   ],
   "source": [
    "a1 = np.array([1,2,3,4,5,6])      # 1d array\n",
    "a2 = np.array([[1, 2, 3, 4], [5, 6, 7, 8], [9, 10, 11, 12]])   #2d array\n",
    "a3 = np.array([[[1, 2, 3], [4, 5, 6]], [[7, 8, 9], [10, 11, 12]]])  #3d array\n",
    "\n",
    "\n",
    "print(a2.ndim)  # Gives dimension of an array\n",
    "print(a3.shape) # Gives order of np.array Interpreted as 2 matrix of 2*3 order\n",
    "\n",
    "print(a2.size)  # Gives total number of items(element)\n",
    "print(a2.itemsize) #Gives size of each items"
   ]
  },
  {
   "cell_type": "code",
   "execution_count": 49,
   "id": "5676743c",
   "metadata": {},
   "outputs": [
    {
     "data": {
      "text/plain": [
       "dtype('float64')"
      ]
     },
     "execution_count": 49,
     "metadata": {},
     "output_type": "execute_result"
    }
   ],
   "source": [
    "a_f = np.zeros((3,3))\n",
    "a_f.dtype # gives the datatype of an array"
   ]
  },
  {
   "cell_type": "markdown",
   "id": "2e37ba2a",
   "metadata": {},
   "source": [
    "## Changing Datatype"
   ]
  },
  {
   "cell_type": "code",
   "execution_count": 54,
   "id": "8894c8a6",
   "metadata": {},
   "outputs": [
    {
     "data": {
      "text/plain": [
       "array([[[ 1,  2,  3],\n",
       "        [ 4,  5,  6]],\n",
       "\n",
       "       [[ 7,  8,  9],\n",
       "        [10, 11, 12]]], dtype=int32)"
      ]
     },
     "execution_count": 54,
     "metadata": {},
     "output_type": "execute_result"
    }
   ],
   "source": [
    "a3.astype(np.int32) #change 64-bit datatype into 32-bit datatype"
   ]
  },
  {
   "cell_type": "markdown",
   "id": "81b19089",
   "metadata": {},
   "source": [
    "## Array operation"
   ]
  },
  {
   "cell_type": "code",
   "execution_count": 56,
   "id": "bf7aab7b",
   "metadata": {},
   "outputs": [
    {
     "data": {
      "text/plain": [
       "array([[12, 13, 14, 15],\n",
       "       [16, 17, 18, 19],\n",
       "       [20, 21, 22, 23]])"
      ]
     },
     "execution_count": 56,
     "metadata": {},
     "output_type": "execute_result"
    }
   ],
   "source": [
    "a1 = np.arange (12).reshape (3,4)\n",
    "a2= np.arange (12,24).reshape(3,4)\n",
    "a2"
   ]
  },
  {
   "cell_type": "code",
   "execution_count": 57,
   "id": "379fa001",
   "metadata": {},
   "outputs": [
    {
     "data": {
      "text/plain": [
       "array([[False, False, False,  True],\n",
       "       [False, False, False, False],\n",
       "       [False, False, False, False]])"
      ]
     },
     "execution_count": 57,
     "metadata": {},
     "output_type": "execute_result"
    }
   ],
   "source": [
    "# scaler = vector  (some operation) scaler\n",
    "a1 *2  # to all element of array a1 multiply by 2\n",
    "a1 +2  # to all element of array a1 add by 2 \n",
    "\n",
    "a2 == 15  # every place where ther is 15 there will be true "
   ]
  },
  {
   "cell_type": "code",
   "execution_count": 58,
   "id": "c51eb30d",
   "metadata": {},
   "outputs": [
    {
     "data": {
      "text/plain": [
       "array([[ 0,  2,  4,  6],\n",
       "       [ 8, 10, 12, 14],\n",
       "       [16, 18, 20, 22]])"
      ]
     },
     "execution_count": 58,
     "metadata": {},
     "output_type": "execute_result"
    }
   ],
   "source": [
    "# vector operation = vector (some operation) vector\n",
    "a1 + a1"
   ]
  },
  {
   "cell_type": "markdown",
   "id": "7b1aa9fb",
   "metadata": {},
   "source": [
    "## Array Function"
   ]
  },
  {
   "cell_type": "code",
   "execution_count": 68,
   "id": "07c356d2",
   "metadata": {},
   "outputs": [
    {
     "data": {
      "text/plain": [
       "array([[46., 59.,  3.],\n",
       "       [ 8., 96., 83.],\n",
       "       [86., 51., 72.]])"
      ]
     },
     "execution_count": 68,
     "metadata": {},
     "output_type": "execute_result"
    }
   ],
   "source": [
    "a1= np.random.random((3,3))\n",
    "a1= np.round(a1*100)    # random number between 1 and 100\n",
    "a1"
   ]
  },
  {
   "cell_type": "code",
   "execution_count": 71,
   "id": "08871be7",
   "metadata": {},
   "outputs": [
    {
     "data": {
      "text/plain": [
       "23"
      ]
     },
     "execution_count": 71,
     "metadata": {},
     "output_type": "execute_result"
    }
   ],
   "source": [
    "np.max(a2)   # max number from total array\n",
    "np.max(a2,axis=0) # Max number form each column 0->col and 1->row  \n"
   ]
  },
  {
   "cell_type": "code",
   "execution_count": 70,
   "id": "7fa9b137",
   "metadata": {},
   "outputs": [
    {
     "data": {
      "text/plain": [
       "array([1.11803399, 1.11803399, 1.11803399])"
      ]
     },
     "execution_count": 70,
     "metadata": {},
     "output_type": "execute_result"
    }
   ],
   "source": [
    "np.mean(a2) # give mean or total array\n",
    "\n",
    "np.median(a2) #give median of an array\n",
    "\n",
    "np.std(a2,axis=1) # give standard deviation of each row\n",
    "\n",
    "np.var(a2)   # variance of array"
   ]
  },
  {
   "cell_type": "code",
   "execution_count": 77,
   "id": "827d403d",
   "metadata": {},
   "outputs": [
    {
     "data": {
      "text/plain": [
       "array([[1.00000000e+00, 2.71828183e+00, 7.38905610e+00, 2.00855369e+01],\n",
       "       [5.45981500e+01, 1.48413159e+02, 4.03428793e+02, 1.09663316e+03],\n",
       "       [2.98095799e+03, 8.10308393e+03, 2.20264658e+04, 5.98741417e+04]])"
      ]
     },
     "execution_count": 77,
     "metadata": {},
     "output_type": "execute_result"
    }
   ],
   "source": [
    "# dot product\n",
    "a2= np.arange(12).reshape(3,4)\n",
    "a3= np.arange(12,24).reshape(4,3)\n",
    "\n",
    "np.dot(a2,a3)  # dot product of 2 matrix\n",
    "\n",
    "#log and exp\n",
    "np.exp(a2)\n",
    "\n",
    "# round = \"round of to nxt int \" and float = \"round of to prev int \""
   ]
  },
  {
   "cell_type": "markdown",
   "id": "69b5565c",
   "metadata": {},
   "source": [
    "## Array slicing"
   ]
  },
  {
   "cell_type": "code",
   "execution_count": null,
   "id": "baaaa27d",
   "metadata": {},
   "outputs": [],
   "source": [
    "# Creating array\n",
    "a1 = np.array([1,2,3,4,5,6])      # 1d array\n",
    "a2 = np.array([[1, 2, 3, 4], [5, 6, 7, 8], [9, 10, 11, 12]])   #2d array\n",
    "a3 = np.array([[[1, 2, 3], [4, 5, 6]], [[7, 8, 9], [10, 11, 12]]])  #3d array\n",
    "print(a1)\n",
    "print(\"\\n\")\n",
    "print(a2)\n",
    "print(\"\\n\")\n",
    "print(a3)"
   ]
  },
  {
   "cell_type": "code",
   "execution_count": 16,
   "id": "976d547d",
   "metadata": {},
   "outputs": [
    {
     "data": {
      "text/plain": [
       "8"
      ]
     },
     "execution_count": 16,
     "metadata": {},
     "output_type": "execute_result"
    }
   ],
   "source": [
    "        #selecting specific data \n",
    "\n",
    "a2[1, 3]             #first->row , second->column\n",
    "        # for 3d\n",
    "a3[1,0,1]            # first->matrix second->row , third->column"
   ]
  },
  {
   "cell_type": "code",
   "execution_count": 78,
   "id": "47962811",
   "metadata": {},
   "outputs": [
    {
     "data": {
      "text/plain": [
       "array([0, 1, 2, 3])"
      ]
     },
     "execution_count": 78,
     "metadata": {},
     "output_type": "execute_result"
    }
   ],
   "source": [
    "a2[0,:] #all element of zero row since colunm is not filled selcet all col i.e row"
   ]
  },
  {
   "cell_type": "code",
   "execution_count": 79,
   "id": "3cd93131",
   "metadata": {},
   "outputs": [
    {
     "data": {
      "text/plain": [
       "array([ 2,  6, 10])"
      ]
     },
     "execution_count": 79,
     "metadata": {},
     "output_type": "execute_result"
    }
   ],
   "source": [
    "a2[:,2]  #all element of col row"
   ]
  },
  {
   "cell_type": "code",
   "execution_count": null,
   "id": "ccda506f",
   "metadata": {},
   "outputs": [],
   "source": [
    "a2[::2,::3] "
   ]
  }
 ],
 "metadata": {
  "kernelspec": {
   "display_name": "Python 3 (ipykernel)",
   "language": "python",
   "name": "python3"
  },
  "language_info": {
   "codemirror_mode": {
    "name": "ipython",
    "version": 3
   },
   "file_extension": ".py",
   "mimetype": "text/x-python",
   "name": "python",
   "nbconvert_exporter": "python",
   "pygments_lexer": "ipython3",
   "version": "3.11.5"
  }
 },
 "nbformat": 4,
 "nbformat_minor": 5
}
